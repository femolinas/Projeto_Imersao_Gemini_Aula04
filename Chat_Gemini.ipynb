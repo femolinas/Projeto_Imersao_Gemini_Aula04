{
  "nbformat": 4,
  "nbformat_minor": 0,
  "metadata": {
    "colab": {
      "provenance": [],
      "authorship_tag": "ABX9TyNzYdm3kVkekxqQN3HzYv26",
      "include_colab_link": true
    },
    "kernelspec": {
      "name": "python3",
      "display_name": "Python 3"
    },
    "language_info": {
      "name": "python"
    }
  },
  "cells": [
    {
      "cell_type": "markdown",
      "metadata": {
        "id": "view-in-github",
        "colab_type": "text"
      },
      "source": [
        "<a href=\"https://colab.research.google.com/github/femolinas/Projeto_Imersao_Gemini_Aula04/blob/main/Chat_Gemini.ipynb\" target=\"_parent\"><img src=\"https://colab.research.google.com/assets/colab-badge.svg\" alt=\"Open In Colab\"/></a>"
      ]
    },
    {
      "cell_type": "code",
      "source": [
        "#Instala software development kit da Google /\n",
        "!pip install -q -U google-generativeai #instala na shell via pip no modo silencioso (-q) e na versão mais recente (-U) a biblioteca:  google-generativeai"
      ],
      "metadata": {
        "id": "hO_HOfZvxy6q"
      },
      "execution_count": null,
      "outputs": []
    },
    {
      "cell_type": "code",
      "execution_count": 52,
      "metadata": {
        "id": "2G_GgmIXu6gH"
      },
      "outputs": [],
      "source": [
        "import google.generativeai as genai # Importa/ Carrega a biblioteca da IA Gemini da Google\n",
        "import textwrap   # Importa biblioteca de formato de texto\n",
        "from IPython.display import display\n",
        "from IPython.display import Markdown\n",
        "from google.colab import userdata"
      ]
    },
    {
      "cell_type": "code",
      "source": [
        "def to_markdown(text):\n",
        "  text = text.replace('•', '  *')\n",
        "  return Markdown(textwrap.indent(text, '> ', predicate=lambda _: True))"
      ],
      "metadata": {
        "id": "nRHWL7ORPaTH"
      },
      "execution_count": 44,
      "outputs": []
    },
    {
      "cell_type": "code",
      "source": [
        "GOOGLE_API_KEY=userdata.get(\"Secret_Key\")\n",
        "genai.configure(api_key=GOOGLE_API_KEY) #Configuração da chave de API informada"
      ],
      "metadata": {
        "id": "1IVfIk2PvFWd"
      },
      "execution_count": 53,
      "outputs": []
    },
    {
      "cell_type": "code",
      "source": [
        "# #Listando os modelos disponíveis\n",
        "# for m in genai.list_models():\n",
        "#   if 'generateContent' in m.supported_generation_methods:\n",
        "#     print(m.name)"
      ],
      "metadata": {
        "id": "_f_8HqRH1pFq"
      },
      "execution_count": 46,
      "outputs": []
    },
    {
      "cell_type": "code",
      "source": [
        "pesquisa_config = {\n",
        "  \"candidate_count\": 1, #Traz apenas 1 resposta\n",
        "  \"temperature\": 0.5, # o quão exato o modelo é\n",
        "}"
      ],
      "metadata": {
        "id": "VCpAchFH30LJ"
      },
      "execution_count": 48,
      "outputs": []
    },
    {
      "cell_type": "code",
      "source": [
        "parametros_seguranca_config={\n",
        "    'HATE': 'BLOCK_NONE',\n",
        "    'HARASSMENT': 'BLOCK_NONE',\n",
        "    'SEXUAL' : 'BLOCK_NONE',\n",
        "    'DANGEROUS' : 'BLOCK_NONE'\n",
        "    }"
      ],
      "metadata": {
        "id": "mg4lkmAg6CP-"
      },
      "execution_count": 49,
      "outputs": []
    },
    {
      "cell_type": "code",
      "source": [
        "# determina o modelo que será utilizado e informa as configurações estabelecidas previamente\n",
        "model = genai.GenerativeModel(model_name='gemini-1.0-pro',\n",
        "                                  generation_config=pesquisa_config,\n",
        "                                  safety_settings=parametros_seguranca_config,)"
      ],
      "metadata": {
        "id": "3_cMLqdO7F5x"
      },
      "execution_count": 50,
      "outputs": []
    },
    {
      "cell_type": "code",
      "source": [
        "chat = model.start_chat(history=[]) # guarda o histórico do chat\n",
        "\n",
        "prompt=input(\"Hello, How can I help you today? \") # Saúda o usuário e guarda a dúvida ou comando (prompt)\n",
        "n=3\n",
        "while n!=1: # loop, a conversa do chat permanece enquanto o n for diferente de 1\n",
        "  if n==1:\n",
        "    break # Sai do código (encerra o loop)\n",
        "  elif n==2:\n",
        "      n=3\n",
        "      prompt = input('\\n How Can I help you? ') # continua perguntando/ ou efetuando demandas\n",
        "  elif n==3: # Resposta do Gemini\n",
        "      response = chat.send_message(prompt)\n",
        "      display(Markdown(f\"Answer: {response.text}\\n\\n\"))\n",
        "      #print(\"Answer: \", response.text, '\\n\\n')\n",
        "      n=int(input(\"\\n Did this answer suit you? If you want to end this chat type 1, to proceed type 2:\")) # Pede uma ação do usuário para encerrar o chat ou continuar perguntando/ dando comandos\n",
        "  else: # faz com que o usuário digite a resposta desejada\n",
        "      n=int(input(\"\\n I am sorry, I could not understand you, to  end this chat type 1, to proceed type 2: \"))\n",
        "      if n!=1 and n!=2:\n",
        "        n=4\n"
      ],
      "metadata": {
        "colab": {
          "base_uri": "https://localhost:8080/",
          "height": 1000
        },
        "id": "sjrkrdyM9X4e",
        "outputId": "3d94d3b4-c949-4891-d970-115a4f818ad8"
      },
      "execution_count": 54,
      "outputs": [
        {
          "name": "stdout",
          "output_type": "stream",
          "text": [
            "Hello, How can I help you today? How many books have tolkien wrote?\n"
          ]
        },
        {
          "output_type": "display_data",
          "data": {
            "text/plain": [
              "<IPython.core.display.Markdown object>"
            ],
            "text/markdown": "Answer: 12\n\n"
          },
          "metadata": {}
        },
        {
          "name": "stdout",
          "output_type": "stream",
          "text": [
            "\n",
            " Did this answer suit you? If you want to end this chat type 1, to proceed type 2:2\n",
            "\n",
            " How Can I help you? Tell me more about Tolkien\n"
          ]
        },
        {
          "output_type": "display_data",
          "data": {
            "text/plain": [
              "<IPython.core.display.Markdown object>"
            ],
            "text/markdown": "Answer: **J.R.R. Tolkien** (1892-1973) was an English writer, poet, philologist, and university professor, best known as the author of The Hobbit and The Lord of the Rings.\n\n**Early Life and Education:**\n\n* Born in Bloemfontein, South Africa, on January 3, 1892.\n* Moved to England at the age of three after his father's death.\n* Attended King Edward's School in Birmingham and Exeter College, Oxford, where he studied English language and literature.\n\n**Military Service:**\n\n* Served in the British Army during World War I, fighting in the Battle of the Somme.\n* The horrors of war had a profound impact on his later writing.\n\n**Academic Career:**\n\n* After the war, Tolkien became a professor of Anglo-Saxon at the University of Leeds and later at the University of Oxford.\n* He specialized in medieval literature and languages, particularly Old English.\n\n**Literary Works:**\n\n* **The Hobbit (1937):** A children's fantasy novel that introduced the world of Middle-earth.\n* **The Lord of the Rings (1954-1955):** An epic fantasy trilogy that became one of the most successful and influential works of literature in history.\n* Other works include:\n    * The Silmarillion (posthumously published, 1977)\n    * Unfinished Tales (posthumously published, 1980)\n    * The History of Middle-earth (posthumously published, 1983-1996)\n\n**Legacy:**\n\n* Tolkien's works have had a lasting impact on fantasy literature and popular culture.\n* The Lord of the Rings has been adapted into several films, television series, and video games.\n* Tolkien's languages, such as Elvish and Dwarvish, have inspired other fantasy writers.\n* He is considered one of the greatest fantasy authors of all time.\n\n**Personal Life:**\n\n* Married Edith Mary Bratt in 1916.\n* Had three children: John, Michael, and Christopher.\n* Died in Bournemouth, England, on September 2, 1973.\n\n"
          },
          "metadata": {}
        },
        {
          "name": "stdout",
          "output_type": "stream",
          "text": [
            "\n",
            " Did this answer suit you? If you want to end this chat type 1, to proceed type 2:10\n",
            "\n",
            " I am sorry, I could not understand you, to  end this chat type 1, to proceed type 2: 3\n",
            "\n",
            " I am sorry, I could not understand you, to  end this chat type 1, to proceed type 2: 2\n",
            "\n",
            " How Can I help you? how many rings were there in the Lord of the rings?\n"
          ]
        },
        {
          "output_type": "display_data",
          "data": {
            "text/plain": [
              "<IPython.core.display.Markdown object>"
            ],
            "text/markdown": "Answer: 20\n\n* **3 Rings for the Elves:** Narya, Nenya, and Vilya\n* **7 Rings for the Dwarves:** Lost to the dragons, except for the Ring of Thrór\n* **9 Rings for Men:** All fell under the dominion of the One Ring, except for the Three Elven Rings\n\n**The One Ring:** The most powerful of all the Rings, created by Sauron to rule them all.\n\nTherefore, there were a total of **20 Rings of Power** in The Lord of the Rings.\n\n"
          },
          "metadata": {}
        },
        {
          "name": "stdout",
          "output_type": "stream",
          "text": [
            "\n",
            " Did this answer suit you? If you want to end this chat type 1, to proceed type 2:1\n"
          ]
        }
      ]
    }
  ]
}